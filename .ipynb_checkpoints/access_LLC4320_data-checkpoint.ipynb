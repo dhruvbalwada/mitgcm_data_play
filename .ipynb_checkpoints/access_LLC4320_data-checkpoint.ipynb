{
 "cells": [
  {
   "cell_type": "markdown",
   "id": "3fcf8d9f-dcac-4ce1-ad42-e78726646760",
   "metadata": {},
   "source": [
    "### Notebook showing how to access LLC4320 data\n",
    "\n",
    "This gives a basic idea of how to access LLC4320 data ...\n",
    "\n",
    "I can write this up if needed. For not default to examples in https://github.com/dhruvbalwada/LLC_analysis \n",
    "The notebook files like LLC_movies_GOM.ipynb provide a good (and most recent) example of how to play with this data.\n",
    "\n",
    "Generally things are a bit more complicated because of the dataset being much larger, the very high resolution likely causes more surface divergence, the lat-lon grid makes gradient calculations etc a bit more messy.\n"
   ]
  },
  {
   "cell_type": "code",
   "execution_count": null,
   "id": "9f56a467-2833-416a-8111-3a81319833ee",
   "metadata": {},
   "outputs": [],
   "source": []
  }
 ],
 "metadata": {
  "kernelspec": {
   "display_name": "Python 3",
   "language": "python",
   "name": "python3"
  },
  "language_info": {
   "codemirror_mode": {
    "name": "ipython",
    "version": 3
   },
   "file_extension": ".py",
   "mimetype": "text/x-python",
   "name": "python",
   "nbconvert_exporter": "python",
   "pygments_lexer": "ipython3",
   "version": "3.8.8"
  }
 },
 "nbformat": 4,
 "nbformat_minor": 5
}
